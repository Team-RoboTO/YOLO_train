{
 "cells": [
  {
   "cell_type": "code",
   "execution_count": 1,
   "metadata": {},
   "outputs": [
    {
     "name": "stderr",
     "output_type": "stream",
     "text": [
      "/home/ilchrees/miniconda3/envs/roboto/lib/python3.9/site-packages/fastdup/fastdup_controller.py:540: UserWarning: Fastdup was already applied, use overwrite=True to re-run\n",
      "  warnings.warn('Fastdup was already applied, use overwrite=True to re-run')\n"
     ]
    }
   ],
   "source": [
    "import fastdup  \n",
    "\n",
    "datasetName = \"GigaDataset\"\n",
    "fd = fastdup.create(\n",
    "    work_dir=f\"DataCleaningPipeline/{datasetName}/images/\",\n",
    "    input_dir=f\"../CreateBigDataset/{datasetName}/\",\n",
    "    )\n",
    "fd.run(ccthreshold=0.9) \n"
   ]
  },
  {
   "cell_type": "code",
   "execution_count": null,
   "metadata": {},
   "outputs": [],
   "source": [
    "fd.invalid_instances()\n"
   ]
  },
  {
   "cell_type": "code",
   "execution_count": null,
   "metadata": {},
   "outputs": [],
   "source": [
    "fd.vis.duplicates_gallery(num_images=5)"
   ]
  },
  {
   "cell_type": "code",
   "execution_count": 2,
   "metadata": {},
   "outputs": [
    {
     "data": {
      "application/vnd.jupyter.widget-view+json": {
       "model_id": "66d7a46e5f5f44f8a8e9e81bea8046e2",
       "version_major": 2,
       "version_minor": 0
      },
      "text/plain": [
       "Generating gallery:   0%|          | 0/5 [00:00<?, ?it/s]"
      ]
     },
     "metadata": {},
     "output_type": "display_data"
    },
    {
     "name": "stdout",
     "output_type": "stream",
     "text": [
      "Finished OK. Components are stored as image files DataCleaningPipeline/GigaDataset/images/galleries/components_[index].jpg\n",
      "Stored components visual view in  DataCleaningPipeline/GigaDataset/images/galleries/components.html\n",
      "Execution time in seconds 31.4\n",
      "########################################################################################\n",
      "Would you like to see awesome visualizations for some of the most popular academic datasets?\n",
      "Click here to see and learn more: https://app.visual-layer.com/vl-datasets?utm_source=fastdup\n",
      "########################################################################################\n"
     ]
    },
    {
     "data": {
      "text/plain": [
       "0"
      ]
     },
     "execution_count": 2,
     "metadata": {},
     "output_type": "execute_result"
    }
   ],
   "source": [
    "fd.vis.component_gallery(num_images=5)"
   ]
  }
 ],
 "metadata": {
  "kernelspec": {
   "display_name": "roboto",
   "language": "python",
   "name": "python3"
  },
  "language_info": {
   "codemirror_mode": {
    "name": "ipython",
    "version": 3
   },
   "file_extension": ".py",
   "mimetype": "text/x-python",
   "name": "python",
   "nbconvert_exporter": "python",
   "pygments_lexer": "ipython3",
   "version": "3.9.18"
  }
 },
 "nbformat": 4,
 "nbformat_minor": 2
}
