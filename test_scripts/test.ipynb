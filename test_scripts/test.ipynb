{
 "cells": [
  {
   "cell_type": "code",
   "execution_count": null,
   "metadata": {},
   "outputs": [],
   "source": [
    "import os, shutil\n",
    "import tqdm.notebook as tqdm\n",
    "\n",
    "\n",
    "DATASET_original_PATH = \"original\"\n",
    "DATASET_cleaned_PATH = \"cleaned\"\n",
    "\n",
    "discarded_images_path = \"discarded\"\n",
    "\n",
    "\n",
    "if os.path.exists(discarded_images_path):\n",
    "    shutil.rmtree(discarded_images_path)\n",
    "os.makedirs(discarded_images_path)\n",
    "\n",
    "\n",
    "allCleanedDatasetName = set(ds for ds in os.listdir(DATASET_cleaned_PATH) if os.path.isdir(os.path.join(DATASET_cleaned_PATH, ds)))\n",
    "allOriginalDatasetName = set(ds for ds in os.listdir(DATASET_cleaned_PATH) if os.path.isdir(os.path.join(DATASET_cleaned_PATH, ds)))\n",
    "\n",
    "assert len(allCleanedDatasetName) == len(allOriginalDatasetName)"
   ]
  },
  {
   "cell_type": "code",
   "execution_count": null,
   "metadata": {},
   "outputs": [],
   "source": [
    "for ds_name in allCleanedDatasetName:\n",
    "    discarded_counter = 0\n",
    "    print(f\"Serving the dataset: {ds_name}\")\n",
    "    DATASET_original_PATH = f\"original\\\\{ds_name}\\\\train\\\\images\"\n",
    "    DATASET_cleaned_PATH = f\"cleaned\\\\{ds_name}\\\\train\\\\images\"\n",
    "\n",
    "    all_original_images_files = set(im for im in os.listdir(DATASET_original_PATH) if os.path.isfile(os.path.join(DATASET_original_PATH, im)))\n",
    "    all_cleaned_images_files = set(im for im in os.listdir(DATASET_cleaned_PATH) if os.path.isfile(os.path.join(DATASET_cleaned_PATH, im)))\n",
    "\n",
    "    for im_name in tqdm.tqdm(all_original_images_files):\n",
    "        if not im_name in all_cleaned_images_files:\n",
    "            shutil.move(os.path.join(DATASET_original_PATH, im_name), discarded_images_path)\n",
    "            discarded_counter += 1\n",
    "\n",
    "    print(f\"Discarded {discarded_counter} images\")"
   ]
  },
  {
   "cell_type": "code",
   "execution_count": null,
   "metadata": {},
   "outputs": [],
   "source": [
    "from ultralytics.utils.downloads import download\n",
    "\n",
    "import ultralytics\n",
    "from pathlib import Path\n",
    "\n",
    "# Download labels\n",
    "segments = False  # segment or box labels\n",
    "dir = Path(yaml['path'])  # dataset root dir\n",
    "url = 'https://github.com/ultralytics/yolov5/releases/download/v1.0/'\n",
    "urls = [url + ('coco2017labels-segments.zip' if segments else 'coco2017labels.zip')]  # labels\n",
    "download(urls, dir=dir.parent)\n",
    "# Download data\n",
    "urls = ['http://images.cocodataset.org/zips/train2017.zip',  # 19G, 118k images\n",
    "        'http://images.cocodataset.org/zips/val2017.zip',  # 1G, 5k images\n",
    "        'http://images.cocodataset.org/zips/test2017.zip']  # 7G, 41k images (optional)\n",
    "download(urls, dir=dir / 'images', threads=3)"
   ]
  }
 ],
 "metadata": {
  "kernelspec": {
   "display_name": "roboto",
   "language": "python",
   "name": "python3"
  },
  "language_info": {
   "codemirror_mode": {
    "name": "ipython",
    "version": 3
   },
   "file_extension": ".py",
   "mimetype": "text/x-python",
   "name": "python",
   "nbconvert_exporter": "python",
   "pygments_lexer": "ipython3",
   "version": "3.9.18"
  }
 },
 "nbformat": 4,
 "nbformat_minor": 2
}
