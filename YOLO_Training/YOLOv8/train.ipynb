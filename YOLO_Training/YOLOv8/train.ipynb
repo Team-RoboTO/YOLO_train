{
 "cells": [
  {
   "cell_type": "markdown",
   "metadata": {},
   "source": [
    "# YOLOv8 Training Scripts"
   ]
  },
  {
   "cell_type": "code",
   "execution_count": null,
   "metadata": {},
   "outputs": [],
   "source": [
    "import torch\n",
    "torch.cuda.is_available()"
   ]
  },
  {
   "cell_type": "markdown",
   "metadata": {},
   "source": [
    "## YOLOv8 Ultralytics HUB train"
   ]
  },
  {
   "cell_type": "code",
   "execution_count": null,
   "metadata": {},
   "outputs": [],
   "source": [
    "from ultralytics import YOLO, checks, hub\n",
    "checks()\n",
    "\n",
    "hub.login('your Ultralytics Hub Key')\n",
    "\n",
    "model = YOLO('your Ultralytics training link')\n",
    "results = model.train()"
   ]
  },
  {
   "cell_type": "markdown",
   "metadata": {},
   "source": [
    "## YOLOv8 Custom local train"
   ]
  },
  {
   "cell_type": "code",
   "execution_count": null,
   "metadata": {},
   "outputs": [],
   "source": [
    "from ultralytics import YOLO\n",
    "import yaml\n",
    "\n",
    "# Modify this file to customize\n",
    "config_file = ''\n",
    "with open(config_file, 'r') as file:\n",
    "   config = yaml.safe_load(file) \n",
    "   \n",
    "# Load the model to restore training.\n",
    "model = YOLO('runs/detect/train6/weights/last.pt')\n",
    " \n",
    "# Training.\n",
    "results = model.train(\n",
    "   **config\n",
    ")"
   ]
  }
 ],
 "metadata": {
  "kernelspec": {
   "display_name": "roboto",
   "language": "python",
   "name": "python3"
  },
  "language_info": {
   "codemirror_mode": {
    "name": "ipython",
    "version": 3
   },
   "file_extension": ".py",
   "mimetype": "text/x-python",
   "name": "python",
   "nbconvert_exporter": "python",
   "pygments_lexer": "ipython3",
   "version": "3.11.9"
  }
 },
 "nbformat": 4,
 "nbformat_minor": 2
}
