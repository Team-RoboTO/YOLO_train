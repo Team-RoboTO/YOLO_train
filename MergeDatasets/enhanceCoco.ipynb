{
 "cells": [
  {
   "cell_type": "markdown",
   "metadata": {},
   "source": [
    "# This script merges different COCO dataset annotation files and create a new Dataset in YOLO format"
   ]
  },
  {
   "cell_type": "markdown",
   "metadata": {},
   "source": [
    "## Merge COCO to other Datasets"
   ]
  },
  {
   "cell_type": "code",
   "execution_count": null,
   "metadata": {},
   "outputs": [],
   "source": [
    "from datasetsConverters import mergeCOCOAndConvertToYOLO\n",
    "\n",
    "mergeCOCOAndConvertToYOLO(\n",
    "    merge_coco_paths= [\"COCO2017\\\\train\\\\_annotations.coco.json\", \"padel\\\\train\\\\_annotations.coco.json\", \"FireEx\\\\train\\\\_annotations.coco.json\"],\n",
    "    creation_dst_coco=\"./mergedCocoDataset_fire_padel\",\n",
    "    creation_dst_yolo=\"./mergedCocoDataset_fire_padel_yolo\",\n",
    "    max_images = 540,\n",
    "    splits_perc=[0.8, 0.1, 0.1],\n",
    "    zipName=\"COCO_82c_34k_v1\",\n",
    "    random_state=42\n",
    "    )\n"
   ]
  },
  {
   "cell_type": "markdown",
   "metadata": {},
   "source": [
    "## Custom COCO"
   ]
  },
  {
   "cell_type": "code",
   "execution_count": null,
   "metadata": {},
   "outputs": [],
   "source": [
    "from datasetsConverters import *\n",
    "\n",
    "max_image_per_category = 200\n",
    "srcCocoPath = \"COCO2017\\\\train\\\\_annotations.coco.json\"\n",
    "dstCocoPath = f\"COCO2017_reduced_{max_image_per_category}\"\n",
    "\n",
    "annotations = loadAnnotations(srcCocoPath)\n",
    "annotations[\"COCO2017\"] = CocoSubset(annotations[\"COCO2017\"], max_image_per_category=max_image_per_category)\n",
    "\n",
    "createMergedCocoDataset(newCocoAnnotation=annotations[\"COCO2017\"], srcCocoDirs=[srcCocoPath], dstCocoDir=dstCocoPath)"
   ]
  },
  {
   "cell_type": "code",
   "execution_count": 2,
   "metadata": {},
   "outputs": [
    {
     "name": "stdout",
     "output_type": "stream",
     "text": [
      "Loading COCO2017_reduced_200 annotation file JSON from: COCO2017_reduced_200\\train\\_annotations.coco.json \n",
      "Done.\n",
      "Loading Fire_coco annotation file JSON from: Fire_coco\\train\\_annotations.coco.json \n",
      "Done.\n",
      "Loading Padel_coco annotation file JSON from: Padel_coco\\train\\_annotations.coco.json \n",
      "Done.\n",
      "Starting merge of annotations\n",
      "Creating the new merged COCO dataset in folder: ./mergedCocoDataset_fire_padel\n",
      "Creating the new CocoDataset\n"
     ]
    },
    {
     "name": "stderr",
     "output_type": "stream",
     "text": [
      "Coping new Images: 100%|██████████| 17020/17020 [04:51<00:00, 58.32it/s] \n"
     ]
    },
    {
     "name": "stdout",
     "output_type": "stream",
     "text": [
      "Done\n",
      "\n",
      "Converting the new COCO dataset Yolo in folder: ./mergedCocoDataset_fire_padel_yolo\n"
     ]
    },
    {
     "name": "stderr",
     "output_type": "stream",
     "text": [
      "Annotations D:\\Projects\\RoboTO\\CocoDatasetEnhanced\\mergedCocoDataset_fire_padel\\train\\_annotations.coco.json: 100%|██████████| 17018/17018 [00:27<00:00, 617.54it/s] \n",
      "Coping all images in the yolo dataset folder train:   7%|▋         | 864/11914 [00:26<05:36, 32.85it/s]"
     ]
    },
    {
     "name": "stdout",
     "output_type": "stream",
     "text": [
      "01196_jpg.rf.b1e44d7239dd10be6b9b7c17c2336d5a.txt not found\n"
     ]
    },
    {
     "name": "stderr",
     "output_type": "stream",
     "text": [
      "Coping all images in the yolo dataset folder train:  18%|█▊        | 2141/11914 [01:18<04:36, 35.40it/s]"
     ]
    },
    {
     "name": "stdout",
     "output_type": "stream",
     "text": [
      "000000581881.txt not found\n"
     ]
    },
    {
     "name": "stderr",
     "output_type": "stream",
     "text": [
      "Coping all images in the yolo dataset folder train: 100%|██████████| 11914/11914 [06:54<00:00, 28.71it/s]\n",
      "Coping all images in the yolo dataset folder val: 100%|██████████| 3404/3404 [01:54<00:00, 29.78it/s]\n",
      "Coping all images in the yolo dataset folder test: 100%|██████████| 1702/1702 [01:00<00:00, 28.13it/s]\n"
     ]
    }
   ],
   "source": [
    "from datasetsConverters import *\n",
    "max_image_per_category = 200\n",
    "\n",
    "mergeCOCOAndConvertToYOLO(\n",
    "    merge_coco_paths= [\n",
    "        f\"COCO2017_reduced_{max_image_per_category}\\\\train\\\\_annotations.coco.json\", \n",
    "        \"Fire_coco\\\\train\\\\_annotations.coco.json\",\n",
    "        \"Padel_coco\\\\train\\\\_annotations.coco.json\",\n",
    "        ],\n",
    "    creation_dst_coco=\"./mergedCocoDataset_fire_padel\",\n",
    "    creation_dst_yolo=\"./mergedCocoDataset_fire_padel_yolo\",\n",
    "    max_images = None,\n",
    "    splits_perc=[0.7, 0.2, 0.1],\n",
    "    zipName=None, #\"COCO_82c_38k_Mosaicv1\",\n",
    "    random_state=42\n",
    "    )"
   ]
  },
  {
   "cell_type": "code",
   "execution_count": 5,
   "metadata": {},
   "outputs": [
    {
     "name": "stderr",
     "output_type": "stream",
     "text": [
      "Annotations D:\\Projects\\RoboTO\\CocoDatasetEnhanced\\mergedCocoDataset_fire_padel\\train\\_annotations.coco.json: 100%|██████████| 17018/17018 [00:25<00:00, 663.28it/s] \n",
      "Coping all images in the yolo dataset folder train: 100%|██████████| 11914/11914 [03:35<00:00, 55.33it/s]\n",
      "Coping all images in the yolo dataset folder val: 100%|██████████| 3404/3404 [01:11<00:00, 47.53it/s]\n",
      "Coping all images in the yolo dataset folder test:  53%|█████▎    | 897/1702 [00:16<00:13, 58.47it/s]"
     ]
    },
    {
     "name": "stdout",
     "output_type": "stream",
     "text": [
      "01196_jpg.rf.b1e44d7239dd10be6b9b7c17c2336d5a.txt not found\n"
     ]
    },
    {
     "name": "stderr",
     "output_type": "stream",
     "text": [
      "Coping all images in the yolo dataset folder test:  97%|█████████▋| 1656/1702 [00:32<00:01, 33.69it/s]"
     ]
    },
    {
     "name": "stdout",
     "output_type": "stream",
     "text": [
      "000000581881.txt not found\n"
     ]
    },
    {
     "name": "stderr",
     "output_type": "stream",
     "text": [
      "Coping all images in the yolo dataset folder test: 100%|██████████| 1702/1702 [00:35<00:00, 48.47it/s]\n"
     ]
    }
   ],
   "source": [
    "convertCOCOtoYOLOv8(\"./mergedCocoDataset_fire_padel\"+\"/train\", \"./mergedCocoDataset_fire_padel_yolo\", zipName=None, splits_perc=[0.7, 0.2, 0.1])"
   ]
  },
  {
   "cell_type": "code",
   "execution_count": 6,
   "metadata": {},
   "outputs": [
    {
     "name": "stdout",
     "output_type": "stream",
     "text": [
      "mergedCocoDataset_fire_padel_yolo/test/labels\n"
     ]
    },
    {
     "name": "stderr",
     "output_type": "stream",
     "text": [
      "100%|██████████| 1700/1700 [00:09<00:00, 185.21it/s]\n"
     ]
    },
    {
     "name": "stdout",
     "output_type": "stream",
     "text": [
      "mergedCocoDataset_fire_padel_yolo/train/labels\n"
     ]
    },
    {
     "name": "stderr",
     "output_type": "stream",
     "text": [
      "100%|██████████| 11914/11914 [01:41<00:00, 117.71it/s]\n"
     ]
    },
    {
     "name": "stdout",
     "output_type": "stream",
     "text": [
      "mergedCocoDataset_fire_padel_yolo/val/labels\n"
     ]
    },
    {
     "name": "stderr",
     "output_type": "stream",
     "text": [
      "100%|██████████| 3404/3404 [00:29<00:00, 113.92it/s]\n"
     ]
    }
   ],
   "source": [
    "def remove_labels_from_folders(label_folders, data_yaml_path, labels_to_remove):\n",
    "    for folder in label_folders:\n",
    "        print(folder)\n",
    "        for filename in tqdm.tqdm(os.listdir(folder)):\n",
    "            if filename.endswith(\".txt\"):\n",
    "                filepath = os.path.join(folder, filename)\n",
    "                with open(filepath, 'r') as f:\n",
    "                    lines = f.readlines()\n",
    "                with open(filepath, 'w') as f:\n",
    "                    for line in lines:\n",
    "                        class_index, *rest = line.strip().split(' ')\n",
    "                        if int(class_index) not in labels_to_remove:\n",
    "                            f.write(line)\n",
    "    \n",
    "    # Update data.yaml\n",
    "    with open(data_yaml_path, 'r') as f:\n",
    "        data = yaml.safe_load(f)\n",
    "    \n",
    "    if 'names' in data:\n",
    "        names = data['names']\n",
    "        for label_to_remove in labels_to_remove:\n",
    "            if label_to_remove in names:\n",
    "                del names[label_to_remove]\n",
    "    \n",
    "    with open(data_yaml_path, 'w') as f:\n",
    "        yaml.dump(data, f)\n",
    "        \n",
    "        \n",
    "# Usage example:\n",
    "label_paths = [\"mergedCocoDataset_fire_padel_yolo/test/labels\",\n",
    "             \"mergedCocoDataset_fire_padel_yolo/train/labels\",\n",
    "             \"mergedCocoDataset_fire_padel_yolo/val/labels\"]\n",
    "data_yaml_path = \"mergedCocoDataset_fire_padel_yolo/data.yaml\"\n",
    "labels_to_remove = [80, 82]  # List of labels to remove\n",
    "\n",
    "remove_labels_from_folders(label_paths, data_yaml_path, labels_to_remove)\n",
    "\n",
    "# labels_to_remap = {80: \"fire_extinguisher\", 81: \"padel_rackets\"}  # Dictionary of labels to remap\n",
    "# modify_yolo_dataset(label_dirs, data_yaml_path, labels_to_remove, labels_to_remap)"
   ]
  },
  {
   "cell_type": "code",
   "execution_count": 8,
   "metadata": {},
   "outputs": [
    {
     "name": "stdout",
     "output_type": "stream",
     "text": [
      "mergedCocoDataset_fire_padel_yolo/test/labels\n"
     ]
    },
    {
     "name": "stderr",
     "output_type": "stream",
     "text": [
      "100%|██████████| 1700/1700 [00:12<00:00, 139.85it/s]\n"
     ]
    },
    {
     "name": "stdout",
     "output_type": "stream",
     "text": [
      "mergedCocoDataset_fire_padel_yolo/train/labels\n"
     ]
    },
    {
     "name": "stderr",
     "output_type": "stream",
     "text": [
      "100%|██████████| 11914/11914 [01:30<00:00, 132.06it/s]\n"
     ]
    },
    {
     "name": "stdout",
     "output_type": "stream",
     "text": [
      "mergedCocoDataset_fire_padel_yolo/val/labels\n"
     ]
    },
    {
     "name": "stderr",
     "output_type": "stream",
     "text": [
      "100%|██████████| 3404/3404 [00:25<00:00, 132.50it/s]\n"
     ]
    }
   ],
   "source": [
    "def modify_label_numbers(label_folders, data_yaml_path, label_to_modify, new_label):\n",
    "    for folder in label_folders:\n",
    "        print(folder)\n",
    "        for filename in tqdm.tqdm(os.listdir(folder)):\n",
    "            if filename.endswith(\".txt\"):\n",
    "                filepath = os.path.join(folder, filename)\n",
    "                with open(filepath, 'r') as f:\n",
    "                    lines = f.readlines()\n",
    "                with open(filepath, 'w') as f:\n",
    "                    for line in lines:\n",
    "                        class_index, *rest = line.strip().split(' ')\n",
    "                        if int(class_index) == label_to_modify:\n",
    "                            f.write(f\"{new_label} {' '.join(rest)}\\n\")\n",
    "                        else:\n",
    "                            f.write(line)\n",
    "    \n",
    "    # Update data.yaml\n",
    "    with open(data_yaml_path, 'r') as f:\n",
    "        data = yaml.safe_load(f)\n",
    "    \n",
    "    if 'names' in data:\n",
    "        names = data['names']\n",
    "        if label_to_modify in names:\n",
    "            names[new_label] = names.pop(label_to_modify)\n",
    "    \n",
    "    with open(data_yaml_path, 'w') as f:\n",
    "        yaml.dump(data, f)\n",
    "        \n",
    "        \n",
    "\n",
    "label_to_modify = 83  # Label number to modify\n",
    "new_label = 81  # New label number\n",
    "modify_label_numbers(label_paths, data_yaml_path, label_to_modify, new_label)"
   ]
  }
 ],
 "metadata": {
  "kernelspec": {
   "display_name": "roboto",
   "language": "python",
   "name": "python3"
  },
  "language_info": {
   "codemirror_mode": {
    "name": "ipython",
    "version": 3
   },
   "file_extension": ".py",
   "mimetype": "text/x-python",
   "name": "python",
   "nbconvert_exporter": "python",
   "pygments_lexer": "ipython3",
   "version": "3.9.18"
  }
 },
 "nbformat": 4,
 "nbformat_minor": 2
}
