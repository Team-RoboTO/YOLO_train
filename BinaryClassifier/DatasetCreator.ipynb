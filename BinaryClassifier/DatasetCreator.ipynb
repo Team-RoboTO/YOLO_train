{
 "cells": [
  {
   "cell_type": "markdown",
   "metadata": {},
   "source": [
    "# Dataset Creation"
   ]
  },
  {
   "cell_type": "markdown",
   "metadata": {},
   "source": [
    "This small code is needed to set up the dataset for the binary classifier.\n",
    "The dataset need to be in the following format:\n",
    "- root:\n",
    "    - images:\n",
    "        - image_1.jpg\n",
    "        - ...\n",
    "    - labels:\n",
    "        - labels.csv\n",
    "\n",
    "The label.csv file must contain for each row the name of the image and the correspondent label.\n",
    "- 0 not approved image\n",
    "- 1 approved image\n"
   ]
  },
  {
   "cell_type": "code",
   "execution_count": null,
   "metadata": {},
   "outputs": [],
   "source": [
    "import shutil, os\n",
    "from tqdm import tqdm\n",
    "\n",
    "for dataset_type in [\"train\", \"valid\", \"test\"]:\n",
    "    print(f\"Working on {dataset_type}\")\n",
    "    \n",
    "    original_labels_dir = f\"Original\\\\{dataset_type}\\\\labels\"\n",
    "    cleaned_labels_dir = f\"Cleaned\\\\{dataset_type}\\\\labels\"\n",
    "    \n",
    "    images_dir = f\"Cleaned\\\\{dataset_type}\\\\images\"\n",
    "\n",
    "    labels_files = set(f for f in os.listdir(original_labels_dir) if os.path.isfile(os.path.join(original_labels_dir, f)))\n",
    "    images_files = [im for im in os.listdir(images_dir) if os.path.isfile(os.path.join(images_dir, im))]\n",
    "    print(len(labels_files), len(images_files))\n",
    "\n",
    "    # Create a directory if does not exist\n",
    "    if not os.path.exists(cleaned_labels_dir):\n",
    "        os.makedirs(cleaned_labels_dir)\n",
    "        \n",
    "    # Remove all file inside a directory\n",
    "    else:\n",
    "        new_labels_files = set(f for f in os.listdir(cleaned_labels_dir) if os.path.isfile(os.path.join(cleaned_labels_dir, f)))\n",
    "        remove_bar = tqdm(new_labels_files)\n",
    "        remove_bar.set_description(\"Removing old labels files\")\n",
    "        for nf in remove_bar:\n",
    "            os.remove(os.path.join(cleaned_labels_dir, nf))\n",
    "\n",
    "    copy_bar = tqdm(images_files)\n",
    "    copy_bar.set_description(\"Copy new labels files\")\n",
    "    for im in tqdm(images_files):\n",
    "        im = im.replace(\".jpg\", \".txt\")\n",
    "        if im in labels_files:\n",
    "            shutil.copy(original_labels_dir + f\"\\\\{im}\", cleaned_labels_dir + f\"\\\\{im}\")\n",
    "\n",
    "    new_labels_files = set(f for f in os.listdir(cleaned_labels_dir) if os.path.isfile(os.path.join(cleaned_labels_dir, f)))\n",
    "    assert len(new_labels_files) == len(images_files)"
   ]
  },
  {
   "cell_type": "code",
   "execution_count": null,
   "metadata": {},
   "outputs": [],
   "source": [
    "import random, os, tqdm, shutil\n",
    "random.seed(42)\n",
    "\n",
    "bad_images_dir = \"D:\\\\Projects\\\\RoboTO\\\\Cleaned\\\\discarded\"\n",
    "good_images_dir = \"D:\\\\Projects\\\\RoboTO\\\\Cleaned\\\\train\\\\images\"\n",
    "\n",
    "dataset_dir = \"D:\\\\Projects\\\\RoboTO\\\\BinaryClassifierDataset\"\n",
    "\n",
    "bad_images_files = [im for im in os.listdir(bad_images_dir) if os.path.isfile(os.path.join(bad_images_dir, im))]\n",
    "good_images_files = [im for im in os.listdir(good_images_dir) if os.path.isfile(os.path.join(good_images_dir, im))]\n",
    "\n",
    "random.shuffle(bad_images_files)\n",
    "random.shuffle(good_images_files)\n",
    "\n",
    "length = min(len(bad_images_files), len(good_images_files))\n",
    "\n",
    "bad_images_files = bad_images_files[:length]\n",
    "good_images_files = good_images_files[:length]\n",
    "\n",
    "with open(dataset_dir + f\"\\\\labels\\\\labels.csv\", \"w\") as fout:\n",
    "    for image_file in tqdm.tqdm(bad_images_files):\n",
    "        src_image_path = os.path.join(bad_images_dir, image_file)\n",
    "        dst_image_path = os.path.join(dataset_dir+\"\\\\images\", image_file)\n",
    "        \n",
    "        shutil.copy(src_image_path, dst_image_path)\n",
    "        print(f\"{image_file},{0}\", file=fout)\n",
    "    \n",
    "    for image_file in tqdm.tqdm(good_images_files):\n",
    "        src_image_path = os.path.join(good_images_dir, image_file)\n",
    "        dst_image_path = os.path.join(dataset_dir+\"\\\\images\", image_file)\n",
    "\n",
    "        shutil.copy(src_image_path, dst_image_path)\n",
    "        print(f\"{image_file},{1}\", file=fout)"
   ]
  }
 ],
 "metadata": {
  "kernelspec": {
   "display_name": "roboto",
   "language": "python",
   "name": "python3"
  },
  "language_info": {
   "codemirror_mode": {
    "name": "ipython",
    "version": 3
   },
   "file_extension": ".py",
   "mimetype": "text/x-python",
   "name": "python",
   "nbconvert_exporter": "python",
   "pygments_lexer": "ipython3",
   "version": "3.9.18"
  }
 },
 "nbformat": 4,
 "nbformat_minor": 2
}
