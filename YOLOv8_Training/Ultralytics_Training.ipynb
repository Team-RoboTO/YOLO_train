{
 "cells": [
  {
   "cell_type": "markdown",
   "metadata": {},
   "source": [
    "# YOLOv8 Training"
   ]
  },
  {
   "cell_type": "markdown",
   "metadata": {},
   "source": [
    "## YOLOv8 Ultralytics HUB train"
   ]
  },
  {
   "cell_type": "code",
   "execution_count": null,
   "metadata": {},
   "outputs": [],
   "source": [
    "from ultralytics import YOLO, checks, hub\n",
    "checks()\n",
    "\n",
    "hub.login('d21ec459659c1e49ee61966e47493eb851781625cf')\n",
    "\n",
    "model = YOLO('https://hub.ultralytics.com/models/eX1IivGQtFFMHLDp9U32')\n",
    "results = model.train()"
   ]
  },
  {
   "cell_type": "markdown",
   "metadata": {},
   "source": [
    "## YOLOv8 Custom local train"
   ]
  },
  {
   "cell_type": "code",
   "execution_count": null,
   "metadata": {},
   "outputs": [],
   "source": [
    "from ultralytics import YOLO\n",
    "import yaml\n",
    "\n",
    "# Modify this file to customize\n",
    "config = 'F:\\\\Projects\\\\RoboTO\\\\YOLOv8_Training\\\\runs\\\\detect\\\\train6\\\\args.yaml'\n",
    "with open(config, 'r') as file:\n",
    "   config = yaml.safe_load(file) \n",
    "   \n",
    "# Load the model.\n",
    "model = YOLO('runs/detect/train6/weights/last.pt')\n",
    " \n",
    "# Training.\n",
    "results = model.train(\n",
    "   **config\n",
    ")"
   ]
  },
  {
   "cell_type": "markdown",
   "metadata": {},
   "source": [
    "# YOLOv9 (EH VOLEVI LEZZO)"
   ]
  },
  {
   "cell_type": "code",
   "execution_count": null,
   "metadata": {},
   "outputs": [],
   "source": [
    "from ultralytics import YOLO\n",
    " \n",
    "# Load the model.\n",
    "# model = YOLO('YOLOV9-S.pt')"
   ]
  }
 ],
 "metadata": {
  "kernelspec": {
   "display_name": "roboto",
   "language": "python",
   "name": "python3"
  },
  "language_info": {
   "codemirror_mode": {
    "name": "ipython",
    "version": 3
   },
   "file_extension": ".py",
   "mimetype": "text/x-python",
   "name": "python",
   "nbconvert_exporter": "python",
   "pygments_lexer": "ipython3",
   "version": "3.9.18"
  }
 },
 "nbformat": 4,
 "nbformat_minor": 2
}
