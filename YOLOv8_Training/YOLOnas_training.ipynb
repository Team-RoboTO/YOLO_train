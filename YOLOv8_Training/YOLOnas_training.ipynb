{
 "cells": [
  {
   "cell_type": "markdown",
   "metadata": {},
   "source": [
    "## YOLO-NAS"
   ]
  },
  {
   "cell_type": "code",
   "execution_count": null,
   "metadata": {},
   "outputs": [],
   "source": [
    "from super_gradients.training.datasets.detection_datasets.coco_format_detection import COCOFormatDetectionDataset\n",
    "from super_gradients.training.transforms.transforms import DetectionMosaic, DetectionRandomAffine, DetectionHSV, DetectionHorizontalFlip, DetectionPaddedRescale, DetectionStandardize, DetectionTargetsFormatTransform\n",
    "\n",
    "\n",
    "trainset = COCOFormatDetectionDataset(data_dir=\"/content/soccer-players-2/\",\n",
    "                                      images_dir=\"train\",\n",
    "                                      json_annotation_file=\"train/_annotations.coco.json\",\n",
    "                                      input_dim=(640, 640),\n",
    "                                      ignore_empty_annotations=False,\n",
    "                                      transforms=[\n",
    "                                          DetectionMosaic(prob=1., input_dim=(640, 640)),\n",
    "                                          DetectionRandomAffine(degrees=0., scales=(0.5, 1.5), shear=0., target_size=(640, 640), filter_box_candidates=False, border_value=128),\n",
    "                                          DetectionHSV(prob=1., hgain=5, vgain=30, sgain=30),\n",
    "                                          DetectionHorizontalFlip(prob=0.5),\n",
    "                                          DetectionPaddedRescale(input_dim=(640, 640), max_targets=300),\n",
    "                                          DetectionStandardize(max_value=255),\n",
    "                                          DetectionTargetsFormatTransform(max_targets=300, input_dim=(640, 640), output_format=\"LABEL_CXCYWH\")\n",
    "                                      ])\n",
    "\n",
    "\n",
    "valset = COCOFormatDetectionDataset(data_dir=\"/content/soccer-players-2/\",\n",
    "                                    images_dir=\"valid\",\n",
    "                                    json_annotation_file=\"valid/_annotations.coco.json\",\n",
    "                                    input_dim=(640, 640),\n",
    "                                    ignore_empty_annotations=False,\n",
    "                                    transforms=[\n",
    "                                        DetectionPaddedRescale(input_dim=(640, 640), max_targets=300),\n",
    "                                        DetectionStandardize(max_value=255),\n",
    "                                        DetectionTargetsFormatTransform(max_targets=300, input_dim=(640, 640), output_format=\"LABEL_CXCYWH\")\n",
    "                                    ])"
   ]
  }
 ],
 "metadata": {
  "kernelspec": {
   "display_name": "roboto",
   "language": "python",
   "name": "python3"
  },
  "language_info": {
   "name": "python",
   "version": "3.9.18"
  }
 },
 "nbformat": 4,
 "nbformat_minor": 2
}
