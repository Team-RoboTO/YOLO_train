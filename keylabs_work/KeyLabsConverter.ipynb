{
 "cells": [
  {
   "cell_type": "code",
   "execution_count": 9,
   "metadata": {},
   "outputs": [],
   "source": [
    "import os\n",
    "from PIL import Image\n",
    "import pprint\n",
    "\n",
    "DATASET_PATH = \"TestDatasetRobot\"\n",
    "\n",
    "\n",
    "image_paths= [os.path.join(DATASET_PATH, \"Images\", im_name) for im_name in os.listdir(os.path.join(DATASET_PATH, \"Images\"))]\n",
    "label_paths = [os.path.join(DATASET_PATH, \"Labels\", lb_name) for lb_name in os.listdir(os.path.join(DATASET_PATH, \"Labels\"))]"
   ]
  },
  {
   "cell_type": "code",
   "execution_count": 10,
   "metadata": {},
   "outputs": [],
   "source": [
    "class_mapping =  {\n",
    "    0:'blue_armor', \n",
    "    1:'grey_armor', \n",
    "    2:'purple_armor', \n",
    "    3:'red_armor', \n",
    "    4:'robot'\n",
    "}"
   ]
  },
  {
   "cell_type": "code",
   "execution_count": 11,
   "metadata": {},
   "outputs": [
    {
     "name": "stdout",
     "output_type": "stream",
     "text": [
      "['TestDatasetRobot/Images/-1_mp4-152_jpg.rf.c13e36e586ca61f687bf66fe7caf3b29.jpg',\n",
      " 'TestDatasetRobot/Images/-1_mp4-57_jpg.rf.4344bd7729714128dae6712fe66bedff.jpg',\n",
      " 'TestDatasetRobot/Images/-2_mp4-124_jpg.rf.e964b65faa070a14605cad586b9e2bfb.jpg',\n",
      " 'TestDatasetRobot/Images/-_202307052203051_jpg.rf.a2195ba527c583b4ad87fedb3691d18f.jpg',\n",
      " 'TestDatasetRobot/Images/-_202307052203052_jpg.rf.6f0d796dcf0e0c4354fe8334477bdc8d.jpg',\n",
      " 'TestDatasetRobot/Images/-_202307052203054_jpg.rf.12276751346b98ed44abb21021c86084.jpg']\n",
      "['TestDatasetRobot/Labels/-1_mp4-152_jpg.rf.c13e36e586ca61f687bf66fe7caf3b29.txt',\n",
      " 'TestDatasetRobot/Labels/-1_mp4-57_jpg.rf.4344bd7729714128dae6712fe66bedff.txt',\n",
      " 'TestDatasetRobot/Labels/-2_mp4-124_jpg.rf.e964b65faa070a14605cad586b9e2bfb.txt',\n",
      " 'TestDatasetRobot/Labels/-_202307052203051_jpg.rf.a2195ba527c583b4ad87fedb3691d18f.txt',\n",
      " 'TestDatasetRobot/Labels/-_202307052203052_jpg.rf.6f0d796dcf0e0c4354fe8334477bdc8d.txt',\n",
      " 'TestDatasetRobot/Labels/-_202307052203054_jpg.rf.12276751346b98ed44abb21021c86084.txt']\n"
     ]
    }
   ],
   "source": [
    "pprint.pprint(sorted(image_paths))\n",
    "pprint.pprint(sorted(label_paths))\n",
    "\n",
    "image_paths = sorted(image_paths)\n",
    "label_paths = sorted(label_paths)"
   ]
  },
  {
   "cell_type": "code",
   "execution_count": 12,
   "metadata": {},
   "outputs": [],
   "source": [
    "def convert_yolo_to_keylabs(x_center, y_center, width, height, image_width, image_height):\n",
    "    x1 = (x_center - width / 2) * image_width\n",
    "    y1 = (y_center - height / 2) * image_height\n",
    "    x2 = (x_center + width / 2) * image_width\n",
    "    y2 = (y_center + height / 2) * image_height\n",
    "\n",
    "    return x1, y1, x2, y2"
   ]
  },
  {
   "cell_type": "code",
   "execution_count": 13,
   "metadata": {},
   "outputs": [],
   "source": [
    "outoput_data = [{\n",
    "        \"version\":\"1.5\",\n",
    "        \"file\":\"Libri-di-filosofia-da-leggere.jpg\",\n",
    "        \"width\":1920,\n",
    "        \"height\":1280,\n",
    "        \"part\":1,\n",
    "        \"original_frame\":1,\n",
    "        \"frame_skip\":1,\n",
    "        \"status\":\"open\",\n",
    "        \"stage\":\"open\",\n",
    "        \"objects\":[]\n",
    "}]"
   ]
  },
  {
   "cell_type": "code",
   "execution_count": 14,
   "metadata": {},
   "outputs": [
    {
     "name": "stdout",
     "output_type": "stream",
     "text": [
      "['4', '0.8875', '0.64453125', '0.225', '0.4265625']\n",
      "['1', '0.83125', '0.67109375', '0.046875', '0.090625']\n",
      "['1', '0.9703125', '0.721875', '0.040625', '0.1']\n",
      "['4', '0.81484375', '0.55', '0.084375', '0.1296875']\n",
      "['0', '0.82109375', '0.57421875', '0.034375', '0.040625']\n",
      "['0', '0.0953125', '0.49609375', '0.04375', '0.0515625']\n",
      "['0', '0.5203125', '0.60625', '0.0515625', '0.0765625']\n",
      "['0', '0.603125', '0.59140625', '0.0203125', '0.059375']\n",
      "['3', '0.890625', '0.46328125', '0.1703125', '0.1421875']\n",
      "['3', '0.40390625', '0.4546875', '0.115625', '0.0859375']\n",
      "['3', '0.63203125', '0.4484375', '0.0859375', '0.09375']\n",
      "['3', '0.52578125', '0.4390625', '0.1875', '0.0703125']\n",
      "['4', '0.52890625', '0.49140625', '0.65625', '0.43984375']\n",
      "['0', '0.46171875', '0.32890625', '0.1859375', '0.1']\n"
     ]
    }
   ],
   "source": [
    "import json\n",
    "\n",
    "# Create the annotations directory if it doesn't exist\n",
    "if not os.path.exists('annotations'):\n",
    "    os.makedirs('annotations')\n",
    "\n",
    "for image_path, label_path in zip(image_paths, label_paths):\n",
    "    img = Image.open(image_path)\n",
    "    image_width, image_height = img.size\n",
    "\n",
    "    metadata_objects = []\n",
    "    data_objects = []\n",
    "\n",
    "    \n",
    "    with open(label_path, \"r\") as label_file:\n",
    "        counter = 1\n",
    "        for line in label_file.readlines():\n",
    "            line = line.replace(\"\\n\", \"\").split(\" \")\n",
    "            print(line)\n",
    "            label = line[0]\n",
    "\n",
    "            nm = \"0.\" + str(counter)\n",
    "            counter += 1\n",
    "            metadata_objects.append({\n",
    "                 \"nm\" : nm,\n",
    "                 \"type\": class_mapping[int(label)],\n",
    "                 \"shape\" : \"bBox\",\n",
    "             })\n",
    "            \n",
    "            x_center, y_center, width, height = line[1], line[2], line[3], line[4]\n",
    "            x1, y1, x2, y2 = convert_yolo_to_keylabs(float(x_center), float(y_center), float(width), float(height), float(image_width), float(image_height))\n",
    "            data_objects.append({\n",
    "                \"nm\": nm,\n",
    "                \"key\":True,\n",
    "                \"attr_key\":False,\n",
    "                \"x1\":x1,\n",
    "                \"y1\":y1,\n",
    "                \"x2\":x2,\n",
    "                \"y2\":y2, \n",
    "                \"path\":[[\n",
    "                    [x1, y2],\n",
    "                    [x2, y2],\n",
    "                    [x2, y1],\n",
    "                    [x1, y1]\n",
    "                ]\n",
    "                ]\n",
    "            })\n",
    "            \n",
    "            \n",
    "            \n",
    "    complete_data = [\n",
    "       { \"version\": \"1.5\",\n",
    "        \"file\": os.path.basename(image_path),\n",
    "        \"width\": image_width,\n",
    "        \"height\":image_height,\n",
    "        \"part\":1,\n",
    "        \"original_frame\":1,\n",
    "        \"frame_skip\":1,\n",
    "        \"status\":\"open\",\n",
    "        \"stage\":\"open\",\n",
    "        \"objects\": metadata_objects,\n",
    "       },{\n",
    "        \"objects\": data_objects\n",
    "       }\n",
    "    ]\n",
    "\n",
    "    # Create a new JSON file for each image\n",
    "    with open(f'annotations/{os.path.basename(image_path)}.json', 'w') as f:\n",
    "        json.dump(complete_data, f)\n",
    "            "
   ]
  }
 ],
 "metadata": {
  "kernelspec": {
   "display_name": "roboto",
   "language": "python",
   "name": "python3"
  },
  "language_info": {
   "codemirror_mode": {
    "name": "ipython",
    "version": 3
   },
   "file_extension": ".py",
   "mimetype": "text/x-python",
   "name": "python",
   "nbconvert_exporter": "python",
   "pygments_lexer": "ipython3",
   "version": "3.9.18"
  }
 },
 "nbformat": 4,
 "nbformat_minor": 2
}
