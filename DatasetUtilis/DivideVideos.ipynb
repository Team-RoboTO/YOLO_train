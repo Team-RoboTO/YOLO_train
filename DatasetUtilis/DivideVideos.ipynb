{
 "cells": [
  {
   "cell_type": "code",
   "execution_count": 1,
   "metadata": {},
   "outputs": [
    {
     "name": "stdout",
     "output_type": "stream",
     "text": [
      "Frame counter: 655\\655\r"
     ]
    }
   ],
   "source": [
    "import cv2, os\n",
    "\n",
    "VIDEOS_PATH = \"Videos\"\n",
    "FRAMES_PATH = \"VideoFrames\"\n",
    "\n",
    "videos_name = [name for name in os.listdir(VIDEOS_PATH) if os.path.isfile(os.path.join(VIDEOS_PATH, name))]\n",
    "\n",
    "for video_name in videos_name:\n",
    "    vidcap = cv2.VideoCapture(f\"{VIDEOS_PATH}\\\\{video_name}\")\n",
    "    tot_frame = int(vidcap.get(cv2.CAP_PROP_FRAME_COUNT)) \n",
    "\n",
    "    success,image = vidcap.read()\n",
    "    count = 0\n",
    "    while success:\n",
    "        output_dir = f\"{FRAMES_PATH}\\\\{os.path.splitext(video_name)[0]}\"\n",
    "        if not os.path.exists(output_dir):\n",
    "            os.makedirs(output_dir)\n",
    "\n",
    "        cv2.imwrite(f\"{output_dir}\\\\frame{count}.jpg\", image)     # save frame as JPEG file      \n",
    "        success, image = vidcap.read()\n",
    "        count += 1\n",
    "        print(f\"Frame counter: {count}\\{tot_frame}\\r\", end=\"\")"
   ]
  }
 ],
 "metadata": {
  "kernelspec": {
   "display_name": "roboto",
   "language": "python",
   "name": "python3"
  },
  "language_info": {
   "codemirror_mode": {
    "name": "ipython",
    "version": 3
   },
   "file_extension": ".py",
   "mimetype": "text/x-python",
   "name": "python",
   "nbconvert_exporter": "python",
   "pygments_lexer": "ipython3",
   "version": "3.9.18"
  }
 },
 "nbformat": 4,
 "nbformat_minor": 2
}
